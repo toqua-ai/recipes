{
 "cells": [
  {
   "cell_type": "markdown",
   "metadata": {},
   "source": [
    "# Use case\n",
    "\n",
    "In the basics use case we demonstrated how to simulate a ship's performance in a single condition at a single speed.\n",
    "\n",
    "We will extend this example and simulate a ship's performance over multiple speeds. This will allow us to construct a speed-fuel table and speed-fuel curve, showing the required fuel consumption for each speed of the ship."
   ]
  },
  {
   "cell_type": "markdown",
   "metadata": {},
   "source": [
    "## Authorize\n",
    "\n",
    "Let's first make sure we're authorized to use the API. Fill in your API key and run the following code.\n",
    "\n",
    "If everything is alright, you should see a list of ships.\n"
   ]
  },
  {
   "cell_type": "code",
   "execution_count": 20,
   "metadata": {},
   "outputs": [],
   "source": [
    "API_KEY = \"your-api-key\""
   ]
  },
  {
   "cell_type": "code",
   "execution_count": 22,
   "metadata": {},
   "outputs": [
    {
     "name": "stdout",
     "output_type": "stream",
     "text": [
      "[\n",
      "  {\n",
      "    \"name\": \"Trial Vessel\",\n",
      "    \"imo_number\": 9999999,\n",
      "    \"type\": \"Tanker\",\n",
      "    \"class\": null,\n",
      "    \"country\": \"SC\",\n",
      "    \"build_year\": 2015,\n",
      "    \"shipyard\": \"Toqua Shipyard\",\n",
      "    \"dwt\": 220000.0,\n",
      "    \"beam\": 55.0,\n",
      "    \"loa\": 300.0,\n",
      "    \"mcr\": null,\n",
      "    \"max_rpm\": null,\n",
      "    \"uuid\": \"eycrYbrzJNsJecGqKraUCn\"\n",
      "  }\n",
      "]\n"
     ]
    }
   ],
   "source": [
    "import json\n",
    "import requests\n",
    "\n",
    "API_URL = \"https://api.toqua.ai\"\n",
    "\n",
    "url = \"https://api.toqua.ai/ships/\"\n",
    "headers = {\"accept\": \"application/json\", \"X-API-Key\": API_KEY}\n",
    "response = requests.get(url, headers=headers)\n",
    "\n",
    "print(json.dumps(response.json(), indent=2))\n"
   ]
  },
  {
   "cell_type": "markdown",
   "metadata": {},
   "source": [
    "Fill in the IMO number of the ship you want to analyze.\n"
   ]
  },
  {
   "cell_type": "code",
   "execution_count": 23,
   "metadata": {},
   "outputs": [],
   "source": [
    "IMO_NUMBER = 9999999"
   ]
  },
  {
   "cell_type": "markdown",
   "metadata": {},
   "source": [
    "## Conditioning parameters\n",
    "\n",
    "Let's again define our conditions.\n"
   ]
  },
  {
   "cell_type": "code",
   "execution_count": 53,
   "metadata": {},
   "outputs": [],
   "source": [
    "wind_speed = 6          # [m/s]\n",
    "wind_direction = 180    # [degrees]\n",
    "wave_height = 2         # [m]\n",
    "wave_direction = 90     # [degrees]\n",
    "current_speed = 2       # [m/s]\n",
    "current_direction = 0   # [degrees]\n",
    "mean_draft = 20         # [m]\n",
    "trim = -1               # [m]\n",
    "ship_heading = 0        # [degrees]\n",
    "fuel_specific_energy  = 41.5 # [MJ/kg]"
   ]
  },
  {
   "cell_type": "markdown",
   "metadata": {},
   "source": [
    "Our entrypoint will this time be a list, rather than a single value. We will analyze the ship's fuel consumption in speeds ranging from a STW of 6 knots to 16 knots."
   ]
  },
  {
   "cell_type": "code",
   "execution_count": 54,
   "metadata": {},
   "outputs": [
    {
     "name": "stdout",
     "output_type": "stream",
     "text": [
      "[6, 7, 8, 9, 10, 11, 12, 13, 14, 15, 16]\n"
     ]
    }
   ],
   "source": [
    "stw = list(range(6, 17))\n",
    "\n",
    "print(stw)"
   ]
  },
  {
   "cell_type": "markdown",
   "metadata": {},
   "source": [
    "## Define the API input\n"
   ]
  },
  {
   "cell_type": "markdown",
   "metadata": {},
   "source": [
    "Remember that the Toqua API expects the model input to look like this:\n",
    "\n",
    "```\n",
    "{\n",
    "     \"date\": \"...\",\n",
    "     \"data\": {\n",
    "          \"stw\": [...],\n",
    "          \"draft_avg\": [...],\n",
    "          \"trim\": [...],\n",
    "          \"wave_direction\": [...],\n",
    "          \"wave_height\": [...],\n",
    "          \"wave_period\": [...],\n",
    "          \"current_speed\": [...],\n",
    "          \"current_direction\": [...],\n",
    "          \"wind_direction\": [...],\n",
    "          \"wind_speed\": [...],\n",
    "          \"ship_heading\": [...],\n",
    "          \"fuel_specific_energy\": [...]\n",
    "     }\n",
    "}\n",
    "```"
   ]
  },
  {
   "cell_type": "markdown",
   "metadata": {},
   "source": [
    "We will again ignore the `date` parameter for now.\n",
    "\n",
    "Each parameter expects a list of values and all lists must have exactly the same length.\n",
    "The parameter value at each index $i$ corresponds to $$Condition_i = \\{stw_i, wave\\_direction_i, wave\\_speed_i, draft\\_avg_i, ...\\}$$\n",
    "\n",
    "Only the `stw` parameter is currently a list and we are only simulating a single condition, so we will have to duplicate the conditioning parameters once for each element in the `stw` list."
   ]
  },
  {
   "cell_type": "code",
   "execution_count": 61,
   "metadata": {},
   "outputs": [],
   "source": [
    "length_input = len(stw)\n",
    "\n",
    "api_input = {\n",
    "    \"data\": {\n",
    "        \"stw\": stw,\n",
    "        \"wave_direction\": [wave_direction]*length_input,\n",
    "        \"wave_height\": [wave_height]*length_input,\n",
    "        \"wind_direction\": [wind_direction]*length_input,\n",
    "        \"wind_speed\": [wind_speed]*length_input,\n",
    "        \"current_direction\": [current_direction]*length_input,\n",
    "        \"current_speed\": [current_speed]*length_input,\n",
    "        \"draft_avg\": [mean_draft]*length_input,\n",
    "        \"trim\": [trim]*length_input,\n",
    "        \"fuel_specific_energy\": [fuel_specific_energy]*length_input\n",
    "    }\n",
    "}"
   ]
  },
  {
   "cell_type": "markdown",
   "metadata": {},
   "source": [
    "## Query the API\n"
   ]
  },
  {
   "cell_type": "code",
   "execution_count": 62,
   "metadata": {},
   "outputs": [],
   "source": [
    "def query_api(imo_number, payload):\n",
    "    url = f\"https://api.toqua.ai/ships/{imo_number}/models/latest/predict\"\n",
    "    headers = {\n",
    "        \"accept\": \"application/json\",\n",
    "        \"content-type\": \"application/json\",\n",
    "        \"X-API-Key\": API_KEY,\n",
    "    }\n",
    "    response = requests.post(url, json=payload, headers=headers)\n",
    "    return response\n"
   ]
  },
  {
   "cell_type": "markdown",
   "metadata": {},
   "source": [
    "Let's look at the values the model predicts."
   ]
  },
  {
   "cell_type": "code",
   "execution_count": 63,
   "metadata": {},
   "outputs": [
    {
     "name": "stdout",
     "output_type": "stream",
     "text": [
      "{'sog': [2.11232, 3.11232, 4.11232, 5.11232, 6.11232, 7.11232, 8.11232, 9.11232, 10.11232, 11.11232, 12.11232], 'stw': [6.0, 7.0, 8.0, 9.0, 10.0, 11.0, 12.0, 13.0, 14.0, 15.0, 16.0], 'me_rpm': [22.54890544589254, 24.97097532128466, 27.46916405829512, 30.06564265987471, 32.777084317488104, 35.61669598712825, 38.595466765573974, 41.722914386818964, 45.007600274878456, 48.45748412225273, 52.08011540213334], 'me_power': [1869.7667968750002, 2346.1419921875, 2944.439453125, 3692.91328125, 4625.341796875, 5781.926562500001, 7210.34765625, 8966.95703125, 11118.15859375, 13741.9921875, 16929.89375], 'me_fo_consumption': [8.798402460492445, 10.897780077856206, 13.468419573257291, 16.596091186292796, 20.38510203019365, 24.97668807167932, 30.590286700179377, 37.60967357895273, 46.75442557658038, 59.40863917231829, 78.2326173179663], 'me_fo_emission': [27.895335000991295, 34.5514117368431, 42.701624257012234, 52.6179071061413, 64.63096598672897, 79.18858953125927, 96.9865039829187, 119.24147008206961, 148.23490629054808, 188.3550904958351, 248.03651320661214]}\n"
     ]
    }
   ],
   "source": [
    "response = query_api(IMO_NUMBER, api_input)\n",
    "\n",
    "print(response.json())\n"
   ]
  },
  {
   "cell_type": "markdown",
   "metadata": {},
   "source": [
    "## Speed-Fuel Table\n",
    "\n",
    "Using the Pandas library we can transform this output into table format to make it easier on the eyes, and for future data transformations."
   ]
  },
  {
   "cell_type": "code",
   "execution_count": 64,
   "metadata": {},
   "outputs": [
    {
     "data": {
      "text/html": [
       "<div>\n",
       "<style scoped>\n",
       "    .dataframe tbody tr th:only-of-type {\n",
       "        vertical-align: middle;\n",
       "    }\n",
       "\n",
       "    .dataframe tbody tr th {\n",
       "        vertical-align: top;\n",
       "    }\n",
       "\n",
       "    .dataframe thead th {\n",
       "        text-align: right;\n",
       "    }\n",
       "</style>\n",
       "<table border=\"1\" class=\"dataframe\">\n",
       "  <thead>\n",
       "    <tr style=\"text-align: right;\">\n",
       "      <th></th>\n",
       "      <th>sog</th>\n",
       "      <th>stw</th>\n",
       "      <th>me_rpm</th>\n",
       "      <th>me_power</th>\n",
       "      <th>me_fo_consumption</th>\n",
       "      <th>me_fo_emission</th>\n",
       "    </tr>\n",
       "  </thead>\n",
       "  <tbody>\n",
       "    <tr>\n",
       "      <th>0</th>\n",
       "      <td>2.11232</td>\n",
       "      <td>6.0</td>\n",
       "      <td>22.548905</td>\n",
       "      <td>1869.766797</td>\n",
       "      <td>8.798402</td>\n",
       "      <td>27.895335</td>\n",
       "    </tr>\n",
       "    <tr>\n",
       "      <th>1</th>\n",
       "      <td>3.11232</td>\n",
       "      <td>7.0</td>\n",
       "      <td>24.970975</td>\n",
       "      <td>2346.141992</td>\n",
       "      <td>10.897780</td>\n",
       "      <td>34.551412</td>\n",
       "    </tr>\n",
       "    <tr>\n",
       "      <th>2</th>\n",
       "      <td>4.11232</td>\n",
       "      <td>8.0</td>\n",
       "      <td>27.469164</td>\n",
       "      <td>2944.439453</td>\n",
       "      <td>13.468420</td>\n",
       "      <td>42.701624</td>\n",
       "    </tr>\n",
       "    <tr>\n",
       "      <th>3</th>\n",
       "      <td>5.11232</td>\n",
       "      <td>9.0</td>\n",
       "      <td>30.065643</td>\n",
       "      <td>3692.913281</td>\n",
       "      <td>16.596091</td>\n",
       "      <td>52.617907</td>\n",
       "    </tr>\n",
       "    <tr>\n",
       "      <th>4</th>\n",
       "      <td>6.11232</td>\n",
       "      <td>10.0</td>\n",
       "      <td>32.777084</td>\n",
       "      <td>4625.341797</td>\n",
       "      <td>20.385102</td>\n",
       "      <td>64.630966</td>\n",
       "    </tr>\n",
       "    <tr>\n",
       "      <th>5</th>\n",
       "      <td>7.11232</td>\n",
       "      <td>11.0</td>\n",
       "      <td>35.616696</td>\n",
       "      <td>5781.926563</td>\n",
       "      <td>24.976688</td>\n",
       "      <td>79.188590</td>\n",
       "    </tr>\n",
       "    <tr>\n",
       "      <th>6</th>\n",
       "      <td>8.11232</td>\n",
       "      <td>12.0</td>\n",
       "      <td>38.595467</td>\n",
       "      <td>7210.347656</td>\n",
       "      <td>30.590287</td>\n",
       "      <td>96.986504</td>\n",
       "    </tr>\n",
       "    <tr>\n",
       "      <th>7</th>\n",
       "      <td>9.11232</td>\n",
       "      <td>13.0</td>\n",
       "      <td>41.722914</td>\n",
       "      <td>8966.957031</td>\n",
       "      <td>37.609674</td>\n",
       "      <td>119.241470</td>\n",
       "    </tr>\n",
       "    <tr>\n",
       "      <th>8</th>\n",
       "      <td>10.11232</td>\n",
       "      <td>14.0</td>\n",
       "      <td>45.007600</td>\n",
       "      <td>11118.158594</td>\n",
       "      <td>46.754426</td>\n",
       "      <td>148.234906</td>\n",
       "    </tr>\n",
       "    <tr>\n",
       "      <th>9</th>\n",
       "      <td>11.11232</td>\n",
       "      <td>15.0</td>\n",
       "      <td>48.457484</td>\n",
       "      <td>13741.992188</td>\n",
       "      <td>59.408639</td>\n",
       "      <td>188.355090</td>\n",
       "    </tr>\n",
       "    <tr>\n",
       "      <th>10</th>\n",
       "      <td>12.11232</td>\n",
       "      <td>16.0</td>\n",
       "      <td>52.080115</td>\n",
       "      <td>16929.893750</td>\n",
       "      <td>78.232617</td>\n",
       "      <td>248.036513</td>\n",
       "    </tr>\n",
       "  </tbody>\n",
       "</table>\n",
       "</div>"
      ],
      "text/plain": [
       "         sog   stw     me_rpm      me_power  me_fo_consumption  me_fo_emission\n",
       "0    2.11232   6.0  22.548905   1869.766797           8.798402       27.895335\n",
       "1    3.11232   7.0  24.970975   2346.141992          10.897780       34.551412\n",
       "2    4.11232   8.0  27.469164   2944.439453          13.468420       42.701624\n",
       "3    5.11232   9.0  30.065643   3692.913281          16.596091       52.617907\n",
       "4    6.11232  10.0  32.777084   4625.341797          20.385102       64.630966\n",
       "5    7.11232  11.0  35.616696   5781.926563          24.976688       79.188590\n",
       "6    8.11232  12.0  38.595467   7210.347656          30.590287       96.986504\n",
       "7    9.11232  13.0  41.722914   8966.957031          37.609674      119.241470\n",
       "8   10.11232  14.0  45.007600  11118.158594          46.754426      148.234906\n",
       "9   11.11232  15.0  48.457484  13741.992188          59.408639      188.355090\n",
       "10  12.11232  16.0  52.080115  16929.893750          78.232617      248.036513"
      ]
     },
     "execution_count": 64,
     "metadata": {},
     "output_type": "execute_result"
    }
   ],
   "source": [
    "import pandas as pd\n",
    "\n",
    "df = pd.DataFrame(response.json())\n",
    "df"
   ]
  },
  {
   "cell_type": "markdown",
   "metadata": {},
   "source": [
    "There we have our speed-fuel table. For speeds ranging from 6 to 16 knots it tells us the predicted fuel consumption in the conditions we defined earlier."
   ]
  },
  {
   "cell_type": "markdown",
   "metadata": {},
   "source": [
    "# Speed-Fuel Curve\n",
    "\n",
    "Finally, to make things more tangible we can use the Plotly library to visualize our table as a speed-fuel curve."
   ]
  },
  {
   "cell_type": "code",
   "execution_count": 65,
   "metadata": {},
   "outputs": [
    {
     "data": {
      "application/vnd.plotly.v1+json": {
       "config": {
        "plotlyServerURL": "https://plot.ly"
       },
       "data": [
        {
         "hovertemplate": "stw=%{x}<br>me_fo_consumption=%{y}<extra></extra>",
         "legendgroup": "",
         "line": {
          "color": "#636efa",
          "dash": "solid"
         },
         "marker": {
          "symbol": "circle"
         },
         "mode": "lines",
         "name": "",
         "orientation": "v",
         "showlegend": false,
         "type": "scatter",
         "x": [
          6,
          7,
          8,
          9,
          10,
          11,
          12,
          13,
          14,
          15,
          16
         ],
         "xaxis": "x",
         "y": [
          8.798402460492445,
          10.897780077856206,
          13.468419573257291,
          16.596091186292796,
          20.38510203019365,
          24.97668807167932,
          30.590286700179377,
          37.60967357895273,
          46.75442557658038,
          59.40863917231829,
          78.2326173179663
         ],
         "yaxis": "y"
        }
       ],
       "layout": {
        "legend": {
         "tracegroupgap": 0
        },
        "template": {
         "data": {
          "bar": [
           {
            "error_x": {
             "color": "#2a3f5f"
            },
            "error_y": {
             "color": "#2a3f5f"
            },
            "marker": {
             "line": {
              "color": "#E5ECF6",
              "width": 0.5
             },
             "pattern": {
              "fillmode": "overlay",
              "size": 10,
              "solidity": 0.2
             }
            },
            "type": "bar"
           }
          ],
          "barpolar": [
           {
            "marker": {
             "line": {
              "color": "#E5ECF6",
              "width": 0.5
             },
             "pattern": {
              "fillmode": "overlay",
              "size": 10,
              "solidity": 0.2
             }
            },
            "type": "barpolar"
           }
          ],
          "carpet": [
           {
            "aaxis": {
             "endlinecolor": "#2a3f5f",
             "gridcolor": "white",
             "linecolor": "white",
             "minorgridcolor": "white",
             "startlinecolor": "#2a3f5f"
            },
            "baxis": {
             "endlinecolor": "#2a3f5f",
             "gridcolor": "white",
             "linecolor": "white",
             "minorgridcolor": "white",
             "startlinecolor": "#2a3f5f"
            },
            "type": "carpet"
           }
          ],
          "choropleth": [
           {
            "colorbar": {
             "outlinewidth": 0,
             "ticks": ""
            },
            "type": "choropleth"
           }
          ],
          "contour": [
           {
            "colorbar": {
             "outlinewidth": 0,
             "ticks": ""
            },
            "colorscale": [
             [
              0,
              "#0d0887"
             ],
             [
              0.1111111111111111,
              "#46039f"
             ],
             [
              0.2222222222222222,
              "#7201a8"
             ],
             [
              0.3333333333333333,
              "#9c179e"
             ],
             [
              0.4444444444444444,
              "#bd3786"
             ],
             [
              0.5555555555555556,
              "#d8576b"
             ],
             [
              0.6666666666666666,
              "#ed7953"
             ],
             [
              0.7777777777777778,
              "#fb9f3a"
             ],
             [
              0.8888888888888888,
              "#fdca26"
             ],
             [
              1,
              "#f0f921"
             ]
            ],
            "type": "contour"
           }
          ],
          "contourcarpet": [
           {
            "colorbar": {
             "outlinewidth": 0,
             "ticks": ""
            },
            "type": "contourcarpet"
           }
          ],
          "heatmap": [
           {
            "colorbar": {
             "outlinewidth": 0,
             "ticks": ""
            },
            "colorscale": [
             [
              0,
              "#0d0887"
             ],
             [
              0.1111111111111111,
              "#46039f"
             ],
             [
              0.2222222222222222,
              "#7201a8"
             ],
             [
              0.3333333333333333,
              "#9c179e"
             ],
             [
              0.4444444444444444,
              "#bd3786"
             ],
             [
              0.5555555555555556,
              "#d8576b"
             ],
             [
              0.6666666666666666,
              "#ed7953"
             ],
             [
              0.7777777777777778,
              "#fb9f3a"
             ],
             [
              0.8888888888888888,
              "#fdca26"
             ],
             [
              1,
              "#f0f921"
             ]
            ],
            "type": "heatmap"
           }
          ],
          "heatmapgl": [
           {
            "colorbar": {
             "outlinewidth": 0,
             "ticks": ""
            },
            "colorscale": [
             [
              0,
              "#0d0887"
             ],
             [
              0.1111111111111111,
              "#46039f"
             ],
             [
              0.2222222222222222,
              "#7201a8"
             ],
             [
              0.3333333333333333,
              "#9c179e"
             ],
             [
              0.4444444444444444,
              "#bd3786"
             ],
             [
              0.5555555555555556,
              "#d8576b"
             ],
             [
              0.6666666666666666,
              "#ed7953"
             ],
             [
              0.7777777777777778,
              "#fb9f3a"
             ],
             [
              0.8888888888888888,
              "#fdca26"
             ],
             [
              1,
              "#f0f921"
             ]
            ],
            "type": "heatmapgl"
           }
          ],
          "histogram": [
           {
            "marker": {
             "pattern": {
              "fillmode": "overlay",
              "size": 10,
              "solidity": 0.2
             }
            },
            "type": "histogram"
           }
          ],
          "histogram2d": [
           {
            "colorbar": {
             "outlinewidth": 0,
             "ticks": ""
            },
            "colorscale": [
             [
              0,
              "#0d0887"
             ],
             [
              0.1111111111111111,
              "#46039f"
             ],
             [
              0.2222222222222222,
              "#7201a8"
             ],
             [
              0.3333333333333333,
              "#9c179e"
             ],
             [
              0.4444444444444444,
              "#bd3786"
             ],
             [
              0.5555555555555556,
              "#d8576b"
             ],
             [
              0.6666666666666666,
              "#ed7953"
             ],
             [
              0.7777777777777778,
              "#fb9f3a"
             ],
             [
              0.8888888888888888,
              "#fdca26"
             ],
             [
              1,
              "#f0f921"
             ]
            ],
            "type": "histogram2d"
           }
          ],
          "histogram2dcontour": [
           {
            "colorbar": {
             "outlinewidth": 0,
             "ticks": ""
            },
            "colorscale": [
             [
              0,
              "#0d0887"
             ],
             [
              0.1111111111111111,
              "#46039f"
             ],
             [
              0.2222222222222222,
              "#7201a8"
             ],
             [
              0.3333333333333333,
              "#9c179e"
             ],
             [
              0.4444444444444444,
              "#bd3786"
             ],
             [
              0.5555555555555556,
              "#d8576b"
             ],
             [
              0.6666666666666666,
              "#ed7953"
             ],
             [
              0.7777777777777778,
              "#fb9f3a"
             ],
             [
              0.8888888888888888,
              "#fdca26"
             ],
             [
              1,
              "#f0f921"
             ]
            ],
            "type": "histogram2dcontour"
           }
          ],
          "mesh3d": [
           {
            "colorbar": {
             "outlinewidth": 0,
             "ticks": ""
            },
            "type": "mesh3d"
           }
          ],
          "parcoords": [
           {
            "line": {
             "colorbar": {
              "outlinewidth": 0,
              "ticks": ""
             }
            },
            "type": "parcoords"
           }
          ],
          "pie": [
           {
            "automargin": true,
            "type": "pie"
           }
          ],
          "scatter": [
           {
            "fillpattern": {
             "fillmode": "overlay",
             "size": 10,
             "solidity": 0.2
            },
            "type": "scatter"
           }
          ],
          "scatter3d": [
           {
            "line": {
             "colorbar": {
              "outlinewidth": 0,
              "ticks": ""
             }
            },
            "marker": {
             "colorbar": {
              "outlinewidth": 0,
              "ticks": ""
             }
            },
            "type": "scatter3d"
           }
          ],
          "scattercarpet": [
           {
            "marker": {
             "colorbar": {
              "outlinewidth": 0,
              "ticks": ""
             }
            },
            "type": "scattercarpet"
           }
          ],
          "scattergeo": [
           {
            "marker": {
             "colorbar": {
              "outlinewidth": 0,
              "ticks": ""
             }
            },
            "type": "scattergeo"
           }
          ],
          "scattergl": [
           {
            "marker": {
             "colorbar": {
              "outlinewidth": 0,
              "ticks": ""
             }
            },
            "type": "scattergl"
           }
          ],
          "scattermapbox": [
           {
            "marker": {
             "colorbar": {
              "outlinewidth": 0,
              "ticks": ""
             }
            },
            "type": "scattermapbox"
           }
          ],
          "scatterpolar": [
           {
            "marker": {
             "colorbar": {
              "outlinewidth": 0,
              "ticks": ""
             }
            },
            "type": "scatterpolar"
           }
          ],
          "scatterpolargl": [
           {
            "marker": {
             "colorbar": {
              "outlinewidth": 0,
              "ticks": ""
             }
            },
            "type": "scatterpolargl"
           }
          ],
          "scatterternary": [
           {
            "marker": {
             "colorbar": {
              "outlinewidth": 0,
              "ticks": ""
             }
            },
            "type": "scatterternary"
           }
          ],
          "surface": [
           {
            "colorbar": {
             "outlinewidth": 0,
             "ticks": ""
            },
            "colorscale": [
             [
              0,
              "#0d0887"
             ],
             [
              0.1111111111111111,
              "#46039f"
             ],
             [
              0.2222222222222222,
              "#7201a8"
             ],
             [
              0.3333333333333333,
              "#9c179e"
             ],
             [
              0.4444444444444444,
              "#bd3786"
             ],
             [
              0.5555555555555556,
              "#d8576b"
             ],
             [
              0.6666666666666666,
              "#ed7953"
             ],
             [
              0.7777777777777778,
              "#fb9f3a"
             ],
             [
              0.8888888888888888,
              "#fdca26"
             ],
             [
              1,
              "#f0f921"
             ]
            ],
            "type": "surface"
           }
          ],
          "table": [
           {
            "cells": {
             "fill": {
              "color": "#EBF0F8"
             },
             "line": {
              "color": "white"
             }
            },
            "header": {
             "fill": {
              "color": "#C8D4E3"
             },
             "line": {
              "color": "white"
             }
            },
            "type": "table"
           }
          ]
         },
         "layout": {
          "annotationdefaults": {
           "arrowcolor": "#2a3f5f",
           "arrowhead": 0,
           "arrowwidth": 1
          },
          "autotypenumbers": "strict",
          "coloraxis": {
           "colorbar": {
            "outlinewidth": 0,
            "ticks": ""
           }
          },
          "colorscale": {
           "diverging": [
            [
             0,
             "#8e0152"
            ],
            [
             0.1,
             "#c51b7d"
            ],
            [
             0.2,
             "#de77ae"
            ],
            [
             0.3,
             "#f1b6da"
            ],
            [
             0.4,
             "#fde0ef"
            ],
            [
             0.5,
             "#f7f7f7"
            ],
            [
             0.6,
             "#e6f5d0"
            ],
            [
             0.7,
             "#b8e186"
            ],
            [
             0.8,
             "#7fbc41"
            ],
            [
             0.9,
             "#4d9221"
            ],
            [
             1,
             "#276419"
            ]
           ],
           "sequential": [
            [
             0,
             "#0d0887"
            ],
            [
             0.1111111111111111,
             "#46039f"
            ],
            [
             0.2222222222222222,
             "#7201a8"
            ],
            [
             0.3333333333333333,
             "#9c179e"
            ],
            [
             0.4444444444444444,
             "#bd3786"
            ],
            [
             0.5555555555555556,
             "#d8576b"
            ],
            [
             0.6666666666666666,
             "#ed7953"
            ],
            [
             0.7777777777777778,
             "#fb9f3a"
            ],
            [
             0.8888888888888888,
             "#fdca26"
            ],
            [
             1,
             "#f0f921"
            ]
           ],
           "sequentialminus": [
            [
             0,
             "#0d0887"
            ],
            [
             0.1111111111111111,
             "#46039f"
            ],
            [
             0.2222222222222222,
             "#7201a8"
            ],
            [
             0.3333333333333333,
             "#9c179e"
            ],
            [
             0.4444444444444444,
             "#bd3786"
            ],
            [
             0.5555555555555556,
             "#d8576b"
            ],
            [
             0.6666666666666666,
             "#ed7953"
            ],
            [
             0.7777777777777778,
             "#fb9f3a"
            ],
            [
             0.8888888888888888,
             "#fdca26"
            ],
            [
             1,
             "#f0f921"
            ]
           ]
          },
          "colorway": [
           "#636efa",
           "#EF553B",
           "#00cc96",
           "#ab63fa",
           "#FFA15A",
           "#19d3f3",
           "#FF6692",
           "#B6E880",
           "#FF97FF",
           "#FECB52"
          ],
          "font": {
           "color": "#2a3f5f"
          },
          "geo": {
           "bgcolor": "white",
           "lakecolor": "white",
           "landcolor": "#E5ECF6",
           "showlakes": true,
           "showland": true,
           "subunitcolor": "white"
          },
          "hoverlabel": {
           "align": "left"
          },
          "hovermode": "closest",
          "mapbox": {
           "style": "light"
          },
          "paper_bgcolor": "white",
          "plot_bgcolor": "#E5ECF6",
          "polar": {
           "angularaxis": {
            "gridcolor": "white",
            "linecolor": "white",
            "ticks": ""
           },
           "bgcolor": "#E5ECF6",
           "radialaxis": {
            "gridcolor": "white",
            "linecolor": "white",
            "ticks": ""
           }
          },
          "scene": {
           "xaxis": {
            "backgroundcolor": "#E5ECF6",
            "gridcolor": "white",
            "gridwidth": 2,
            "linecolor": "white",
            "showbackground": true,
            "ticks": "",
            "zerolinecolor": "white"
           },
           "yaxis": {
            "backgroundcolor": "#E5ECF6",
            "gridcolor": "white",
            "gridwidth": 2,
            "linecolor": "white",
            "showbackground": true,
            "ticks": "",
            "zerolinecolor": "white"
           },
           "zaxis": {
            "backgroundcolor": "#E5ECF6",
            "gridcolor": "white",
            "gridwidth": 2,
            "linecolor": "white",
            "showbackground": true,
            "ticks": "",
            "zerolinecolor": "white"
           }
          },
          "shapedefaults": {
           "line": {
            "color": "#2a3f5f"
           }
          },
          "ternary": {
           "aaxis": {
            "gridcolor": "white",
            "linecolor": "white",
            "ticks": ""
           },
           "baxis": {
            "gridcolor": "white",
            "linecolor": "white",
            "ticks": ""
           },
           "bgcolor": "#E5ECF6",
           "caxis": {
            "gridcolor": "white",
            "linecolor": "white",
            "ticks": ""
           }
          },
          "title": {
           "x": 0.05
          },
          "xaxis": {
           "automargin": true,
           "gridcolor": "white",
           "linecolor": "white",
           "ticks": "",
           "title": {
            "standoff": 15
           },
           "zerolinecolor": "white",
           "zerolinewidth": 2
          },
          "yaxis": {
           "automargin": true,
           "gridcolor": "white",
           "linecolor": "white",
           "ticks": "",
           "title": {
            "standoff": 15
           },
           "zerolinecolor": "white",
           "zerolinewidth": 2
          }
         }
        },
        "title": {
         "text": "Speed-Fuel Curve"
        },
        "xaxis": {
         "anchor": "y",
         "domain": [
          0,
          1
         ],
         "title": {
          "text": "Speed Through Water [kn]"
         }
        },
        "yaxis": {
         "anchor": "x",
         "domain": [
          0,
          1
         ],
         "title": {
          "text": "Fuel Consumption [mt/day]"
         }
        }
       }
      }
     },
     "metadata": {},
     "output_type": "display_data"
    }
   ],
   "source": [
    "import plotly.express as px\n",
    "\n",
    "fig = px.line(df, x=\"stw\", y=\"me_fo_consumption\", title='Speed-Fuel Curve')\n",
    "fig.update_layout(xaxis_title='Speed Through Water [kn]',\n",
    "                   yaxis_title='Fuel Consumption [mt/day]')\n",
    "fig.show()"
   ]
  }
 ],
 "metadata": {
  "kernelspec": {
   "display_name": "Python 3.8.13 ('recipes')",
   "language": "python",
   "name": "python3"
  },
  "language_info": {
   "codemirror_mode": {
    "name": "ipython",
    "version": 3
   },
   "file_extension": ".py",
   "mimetype": "text/x-python",
   "name": "python",
   "nbconvert_exporter": "python",
   "pygments_lexer": "ipython3",
   "version": "3.8.13"
  },
  "orig_nbformat": 4,
  "vscode": {
   "interpreter": {
    "hash": "93aeca4cc8af296d5c7dc533a0be0042315cbdcd7a0d957eaa864ca76dd95c3f"
   }
  }
 },
 "nbformat": 4,
 "nbformat_minor": 2
}
