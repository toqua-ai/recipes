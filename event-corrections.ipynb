{
 "cells": [
  {
   "attachments": {},
   "cell_type": "markdown",
   "metadata": {},
   "source": [
    "# How to use this interactive notebook?\n",
    "\n",
    "#### 1. Fill in your API key below\n",
    "#### 2. Press the play button above or select _Run All Cells_ from the _Run_ menu in the toolbar."
   ]
  },
  {
   "cell_type": "code",
   "execution_count": 1,
   "metadata": {},
   "outputs": [],
   "source": [
    "API_KEY = \"your-api-key-here\""
   ]
  },
  {
   "attachments": {},
   "cell_type": "markdown",
   "metadata": {},
   "source": [
    "# Use case\n",
    "\n",
    "**This is a more advanced use case. If you have little coding experience we recommend following the \"Basics\" and \"Speed-Fuel curve\" use cases first.**"
   ]
  },
  {
   "attachments": {},
   "cell_type": "markdown",
   "metadata": {},
   "source": [
    "When an event takes place that alters the performance of the vessel, like when it gets cleaned or an ESD is installed, the Toqua Ship Kernel might not reflect the new vessel condition immediately. This could be because the data has not been uploaded yet or there's not enough data yet for the Ship Kernel to be sufficiently accurate.\n",
    "\n",
    "In such cases you can let the Ship Kernel know of any expected performance changes. The Ship Kernel will use that information to apply a correction to the predictions following the event. This correction will eventually be removed by itself once the model has seen enough data after the event.\n",
    "\n",
    "We will show how you can add such an expected performance change, how to see which corrections are applied and how those affect the model."
   ]
  },
  {
   "attachments": {},
   "cell_type": "markdown",
   "metadata": {},
   "source": [
    "## Setup\n",
    "Fill in the IMO number of your ship below.\n"
   ]
  },
  {
   "cell_type": "code",
   "execution_count": 114,
   "metadata": {},
   "outputs": [],
   "source": [
    "IMO_NUMBER = \"9999999\""
   ]
  },
  {
   "attachments": {},
   "cell_type": "markdown",
   "metadata": {},
   "source": [
    "## Helper functions\n",
    "\n",
    "Some helper functions to not clutter our code too much later on."
   ]
  },
  {
   "cell_type": "code",
   "execution_count": 115,
   "metadata": {},
   "outputs": [],
   "source": [
    "import requests\n",
    "\n",
    "\n",
    "def predict(imo_number, payload):\n",
    "    url = f\"https://api.toqua.ai/ships/{imo_number}/models/latest/predict\"\n",
    "    headers = {\n",
    "        \"accept\": \"application/json\",\n",
    "        \"content-type\": \"application/json\",\n",
    "        \"X-API-Key\": API_KEY,\n",
    "    }\n",
    "    response = requests.post(url, json=payload, headers=headers)\n",
    "    \n",
    "    # Check response status code and handle errors\n",
    "    if response.status_code != 200:\n",
    "        print(f\"Error: API request failed with status code {response.status_code}\")\n",
    "        print(response.text)\n",
    "        return None\n",
    "\n",
    "    return response.json()\n",
    "\n",
    "def get_metadata(imo_number):\n",
    "    url = f\"https://api.toqua.ai/ships/{imo_number}/models/latest/metadata\"\n",
    "    headers = {\n",
    "        \"accept\": \"application/json\",\n",
    "        \"content-type\": \"application/json\",\n",
    "        \"X-API-Key\": API_KEY,\n",
    "    }\n",
    "    response = requests.get(url, headers=headers)\n",
    "    return response\n",
    "\n",
    "def ingest_event(imo_number, payload):\n",
    "    url = f\"https://api.toqua.ai/ships/{imo_number}/data/events\"\n",
    "    headers = {\n",
    "        \"accept\": \"application/json\",\n",
    "        \"content-type\": \"application/json\",\n",
    "        \"X-API-Key\": API_KEY,\n",
    "    }\n",
    "    response = requests.post(url, json=payload, headers=headers)\n",
    "    return response"
   ]
  },
  {
   "attachments": {},
   "cell_type": "markdown",
   "metadata": {},
   "source": [
    "## Determining the current vessel performance\n",
    "\n",
    "To see the effect of a correction, we must first know what the performance of the vessel was before the correction.\n",
    "To find out, we'll predict what the fuel consumption is for a STW of 12 given a single set of conditioning parameters. \n",
    "\n",
    "We'll call this prediction the `baseline_prediction` and save it for later when we want to compare against the corrected Ship Kernel."
   ]
  },
  {
   "cell_type": "code",
   "execution_count": 116,
   "metadata": {},
   "outputs": [],
   "source": [
    "api_input = {\n",
    "    \"data\": {\n",
    "        \"stw\": [12],                    # [knots]\n",
    "        \"wave_direction\": [0],          # [degrees]\n",
    "        \"wave_height\": [2],             # [m]\n",
    "        \"wind_direction\": [0],          # [degrees]\n",
    "        \"wind_speed\": [6],              # [m/s]\n",
    "        \"current_direction\": [0],       # [degrees]\n",
    "        \"current_speed\": [0],           # [m]\n",
    "        \"draft_avg\": [12],              # [m]\n",
    "        \"trim\": [0],                    # [degrees]\n",
    "        \"fuel_specific_energy\": [41]    # [MJ/kg]\n",
    "    }\n",
    "}\n"
   ]
  },
  {
   "cell_type": "code",
   "execution_count": 117,
   "metadata": {},
   "outputs": [
    {
     "name": "stdout",
     "output_type": "stream",
     "text": [
      "{'sog': [12.0], 'stw': [12.0], 'me_rpm': [47.424384330985], 'me_power': [8616.428588105264], 'me_fo_consumption': [37.12539569032239], 'me_fo_emission': [117.01924721589619]}\n"
     ]
    }
   ],
   "source": [
    "baseline_prediction = predict(IMO_NUMBER, api_input).json()\n",
    "print(baseline_prediction)"
   ]
  },
  {
   "attachments": {},
   "cell_type": "markdown",
   "metadata": {},
   "source": [
    "## Setting an expected performance change\n",
    "Whenever there is an event that is expected to change the performance of the ship, you can provide an `expected_performance_change` key to convey the expected change. The value for `expected_performance_change` should fall within the range of -100 to 100. A value of 100 indicates that the ship's performance will increase by 100%, meaning it will use 100% less power, resulting in a power of 0 kW. On the other hand, a value of -100 means that the ship will use 100% more power, resulting in the doubling of required power. A value of 0 indicates no performance change.\n",
    "\n",
    "Using the value for `expected_performance_change`, the Ship Kernel determines a correction factor. Only one correction factor can be present at a time, and any previous corrections will be overwritten when a new `expected_performance_change` is given. You can ensure that previous corrections remain applied by providing `null` or simply leaving out the `expected_performance_change` key.\n",
    "\n",
    "In the following example, we will show how to ingest a hull cleaning event that occurred yesterday of which we expect it will result in a 15% improvement in ship performance."
   ]
  },
  {
   "cell_type": "code",
   "execution_count": 118,
   "metadata": {},
   "outputs": [
    {
     "name": "stdout",
     "output_type": "stream",
     "text": [
      "Ingesting the following events:\n",
      "{\n",
      "    \"type\": [\n",
      "        \"hull_cleaning\",\n",
      "        \"esd\"\n",
      "    ],\n",
      "    \"description\": [\n",
      "        \"Partial hull cleaning, flat bottom only\",\n",
      "        \"retrofit of bulbous bow\"\n",
      "    ],\n",
      "    \"expected_performance_change\": [\n",
      "        15,\n",
      "        null\n",
      "    ],\n",
      "    \"datetime_end\": [\n",
      "        \"2023-04-17T15:03:28.823925+00:00\",\n",
      "        \"2024-05-14T12:00:00+00:00\"\n",
      "    ]\n",
      "}\n",
      "Event ingested. Response status code: 201\n"
     ]
    }
   ],
   "source": [
    "import datetime\n",
    "import json\n",
    "\n",
    "\n",
    "yesterday = datetime.datetime.now(tz=datetime.timezone.utc) - datetime.timedelta(days=1)\n",
    "event_data = {\n",
    "    \"type\": [\"hull_cleaning\", \"esd\"],\n",
    "    \"description\": [\"Partial hull cleaning, flat bottom only\", \"retrofit of bulbous bow\"],\n",
    "    \"expected_performance_change\": [15, None],\n",
    "    \"datetime_end\": [\n",
    "        yesterday.isoformat(),\n",
    "        \"2024-05-14T12:00:00+00:00\"\n",
    "    ]\n",
    "}\n",
    "print(\"Ingesting the following events:\")\n",
    "print(json.dumps(event_data, indent=4))\n",
    "\n",
    "response = ingest_event(IMO_NUMBER, event_data)\n",
    "print(f\"Event ingested. Response status code: {response.status_code}\")"
   ]
  },
  {
   "attachments": {},
   "cell_type": "markdown",
   "metadata": {},
   "source": [
    "## Viewing the applied corrections\n",
    "\n",
    "You can check if there are any corrections currently applied by inspecting the `corrections` array in the model metadata.\n",
    "\n",
    "The `correction_date` key in the `corrections` array indicates the date on which the correction started to be applied. The `creation_date` is the date at which the event was uploaded. The `correction_factor` indicates the factor with which the Main Engine Power will be multiplied. \n"
   ]
  },
  {
   "cell_type": "code",
   "execution_count": 119,
   "metadata": {},
   "outputs": [
    {
     "data": {
      "text/plain": [
       "[{'correction_date': '2023-04-17T15:03:28.823925+00:00',\n",
       "  'correction_factor': 0.85,\n",
       "  'creation_date': '2023-04-18T15:03:29.909225+00:00'}]"
      ]
     },
     "execution_count": 119,
     "metadata": {},
     "output_type": "execute_result"
    }
   ],
   "source": [
    "metadata = get_metadata(IMO_NUMBER).json()\n",
    "\n",
    "metadata[\"corrections\"]"
   ]
  },
  {
   "attachments": {},
   "cell_type": "markdown",
   "metadata": {},
   "source": [
    "We can see that the event we uploaded is already being applied. This makes sense, as the event took place yesterday. \n",
    "\n",
    "The `correction_factor` is set to 0.85 as we expected a performance increase of 15%."
   ]
  },
  {
   "attachments": {},
   "cell_type": "markdown",
   "metadata": {},
   "source": [
    "## Determining the effect of a correction"
   ]
  },
  {
   "attachments": {},
   "cell_type": "markdown",
   "metadata": {},
   "source": [
    "To see how the correction affects our Ship Kernel, we will do a new prediction and compare it to the old prediction we have saved."
   ]
  },
  {
   "cell_type": "code",
   "execution_count": 120,
   "metadata": {},
   "outputs": [
    {
     "name": "stdout",
     "output_type": "stream",
     "text": [
      "Prediction before correction:\n",
      "{'sog': [12.0], 'stw': [12.0], 'me_rpm': [47.424384330985], 'me_power': [8616.428588105264], 'me_fo_consumption': [37.12539569032239], 'me_fo_emission': [117.01924721589619]}\n",
      "Prediction after correction:\n",
      "{'sog': [12.0], 'stw': [12.0], 'me_rpm': [44.690351382184815], 'me_power': [7323.964299889474], 'me_fo_consumption': [31.986373946738524], 'me_fo_emission': [100.82105068011984]}\n"
     ]
    }
   ],
   "source": [
    "print(\"Prediction before correction:\")\n",
    "print(baseline_prediction)\n",
    "\n",
    "corrected_prediction = predict(IMO_NUMBER, api_input).json()\n",
    "\n",
    "print(\"Prediction after correction:\")\n",
    "print(corrected_prediction)"
   ]
  },
  {
   "attachments": {},
   "cell_type": "markdown",
   "metadata": {},
   "source": [
    "The `me_rpm`, `me_power` and `me_fo_consumption` have increased. \n",
    "\n",
    "Using the Pandas libray we can easily determine the exact ratio of the corrected predictions to the baseline predictions."
   ]
  },
  {
   "cell_type": "code",
   "execution_count": 121,
   "metadata": {},
   "outputs": [
    {
     "data": {
      "text/html": [
       "<div>\n",
       "<style scoped>\n",
       "    .dataframe tbody tr th:only-of-type {\n",
       "        vertical-align: middle;\n",
       "    }\n",
       "\n",
       "    .dataframe tbody tr th {\n",
       "        vertical-align: top;\n",
       "    }\n",
       "\n",
       "    .dataframe thead th {\n",
       "        text-align: right;\n",
       "    }\n",
       "</style>\n",
       "<table border=\"1\" class=\"dataframe\">\n",
       "  <thead>\n",
       "    <tr style=\"text-align: right;\">\n",
       "      <th></th>\n",
       "      <th>sog</th>\n",
       "      <th>stw</th>\n",
       "      <th>me_rpm</th>\n",
       "      <th>me_power</th>\n",
       "      <th>me_fo_consumption</th>\n",
       "      <th>me_fo_emission</th>\n",
       "    </tr>\n",
       "  </thead>\n",
       "  <tbody>\n",
       "    <tr>\n",
       "      <th>corrected</th>\n",
       "      <td>12.0</td>\n",
       "      <td>12.0</td>\n",
       "      <td>44.690351</td>\n",
       "      <td>7323.964300</td>\n",
       "      <td>31.986374</td>\n",
       "      <td>100.821051</td>\n",
       "    </tr>\n",
       "    <tr>\n",
       "      <th>baseline</th>\n",
       "      <td>12.0</td>\n",
       "      <td>12.0</td>\n",
       "      <td>47.424384</td>\n",
       "      <td>8616.428588</td>\n",
       "      <td>37.125396</td>\n",
       "      <td>117.019247</td>\n",
       "    </tr>\n",
       "    <tr>\n",
       "      <th>ratio</th>\n",
       "      <td>1.0</td>\n",
       "      <td>1.0</td>\n",
       "      <td>0.942350</td>\n",
       "      <td>0.850000</td>\n",
       "      <td>0.861577</td>\n",
       "      <td>0.861577</td>\n",
       "    </tr>\n",
       "  </tbody>\n",
       "</table>\n",
       "</div>"
      ],
      "text/plain": [
       "            sog   stw     me_rpm     me_power  me_fo_consumption  \\\n",
       "corrected  12.0  12.0  44.690351  7323.964300          31.986374   \n",
       "baseline   12.0  12.0  47.424384  8616.428588          37.125396   \n",
       "ratio       1.0   1.0   0.942350     0.850000           0.861577   \n",
       "\n",
       "           me_fo_emission  \n",
       "corrected      100.821051  \n",
       "baseline       117.019247  \n",
       "ratio            0.861577  "
      ]
     },
     "execution_count": 121,
     "metadata": {},
     "output_type": "execute_result"
    }
   ],
   "source": [
    "import pandas as pd\n",
    "\n",
    "df = pd.concat([pd.DataFrame(corrected_prediction), pd.DataFrame(baseline_prediction)]).set_index([['corrected', 'baseline']])\n",
    "df.loc['ratio', :] = df.loc['corrected', :] / df.loc['baseline', :]\n",
    "df"
   ]
  },
  {
   "attachments": {},
   "cell_type": "markdown",
   "metadata": {},
   "source": [
    "As expected, the Main Engine power has decreased by 15%. \n",
    "\n",
    "The Main Engine RPM and Main Engine Fuel Oil Consumption have decreased too, but by a different magnitude."
   ]
  },
  {
   "cell_type": "markdown",
   "metadata": {},
   "source": []
  }
 ],
 "metadata": {
  "kernelspec": {
   "display_name": "recipes",
   "language": "python",
   "name": "python3"
  },
  "language_info": {
   "codemirror_mode": {
    "name": "ipython",
    "version": 3
   },
   "file_extension": ".py",
   "mimetype": "text/x-python",
   "name": "python",
   "nbconvert_exporter": "python",
   "pygments_lexer": "ipython3",
   "version": "3.8.13"
  },
  "orig_nbformat": 4
 },
 "nbformat": 4,
 "nbformat_minor": 2
}
