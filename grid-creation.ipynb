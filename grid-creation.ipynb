{
 "cells": [
  {
   "attachments": {},
   "cell_type": "markdown",
   "metadata": {},
   "source": [
    "# How to use this interactive notebook?\n",
    "\n",
    "#### 1. Fill in your API key below\n",
    "#### 2. Press the play button above or select _Run All Cells_ from the _Run_ menu in the toolbar."
   ]
  },
  {
   "cell_type": "code",
   "execution_count": 1,
   "metadata": {},
   "outputs": [],
   "source": [
    "API_KEY = \"your-api-key-here\""
   ]
  },
  {
   "attachments": {},
   "cell_type": "markdown",
   "metadata": {},
   "source": [
    "# Use Case\n",
    "\n",
    "**This is a more advanced use case. If you have little coding experience we recommend following the \"Basics\" and \"Speed-Fuel curve\" use cases first.**\n",
    "\n",
    "When employing a Toqua Ship Kernel in a high-intensity routing application, millions of sequential predictions may need to happen within a time frame of a few minutes. In these cases, calling a Web API like ours will introduce too much latency. To address this issue, a simpler version of our model can be created that can be stored and queried locally. This simplified model is multi-dimensional grid between which can be interpolated.\n",
    "\n",
    "This notebook will explain what such a grid looks like and demonstrate how to create one using Toqua's API.\n",
    "\n",
    "Feel free to run and experiment in this notebook. Any changes done will not be permanent. Ensure that you have a Toqua API Key that is authorized to use the grid creation endpoints."
   ]
  },
  {
   "attachments": {},
   "cell_type": "markdown",
   "metadata": {},
   "source": [
    "## Setup\n",
    "Fill in the IMO number of your ship below."
   ]
  },
  {
   "cell_type": "code",
   "execution_count": null,
   "metadata": {},
   "outputs": [],
   "source": [
    "IMO_NUMBER = \"9999999\""
   ]
  },
  {
   "attachments": {},
   "cell_type": "markdown",
   "metadata": {},
   "source": [
    "## Helper functions\n",
    "\n",
    "Some helper functions to not clutter our code too much later on."
   ]
  },
  {
   "cell_type": "code",
   "execution_count": 3,
   "metadata": {},
   "outputs": [],
   "source": [
    "import io\n",
    "import json\n",
    "import time\n",
    "import zipfile\n",
    "from time import sleep\n",
    "from typing import Dict\n",
    "import pandas as pd\n",
    "import requests\n",
    "\n",
    "def make_api_call(method, url, payload=None, return_json=True):\n",
    "    headers = {\n",
    "        \"accept\": \"application/json\",\n",
    "        \"content-type\": \"application/json\",\n",
    "        \"X-API-Key\": API_KEY,\n",
    "    }\n",
    "    \n",
    "    if method == 'GET':\n",
    "        response = requests.get(url, headers=headers)\n",
    "    elif method == 'POST':\n",
    "        response = requests.post(url, json=payload, headers=headers)\n",
    "    else:\n",
    "        print(\"Error: Invalid method\")\n",
    "        return None\n",
    "\n",
    "    response.raise_for_status()\n",
    "    if return_json:\n",
    "        return response.json()\n",
    "    return response"
   ]
  },
  {
   "attachments": {},
   "cell_type": "markdown",
   "metadata": {},
   "source": [
    "## What is a grid?\n",
    "\n",
    "First of all, let's make it clear what we mean with \"multi-dimensional grid\" and how this can represent a Toqua Ship Kernel. It sounds more complicated than it is.\n",
    "\n",
    "### Toy example\n",
    "Let's say we have a very simple Ship Kernel model. This model has only 2 input parameters: STW and Mean Draft, and can predict a single output parameter: Main Engine Power. \n",
    "\n",
    "We can represent this model as a 2-dimensional grid where each dimension corresponds to an input parameter and the cells of the grid contain the output parameter. To make this concrete, let's look at the following grid, shown as a simple table:\n",
    "\n",
    "<style type=\"text/css\">\n",
    ".tg  {border-collapse:collapse;border-spacing:0;}\n",
    ".tg td{border-color:black;border-style:solid;border-width:1px;font-family:Arial, sans-serif;font-size:14px;\n",
    "  overflow:hidden;padding:10px 5px;word-break:normal;}\n",
    ".tg th{border-color:black;border-style:solid;border-width:1px;font-family:Arial, sans-serif;font-size:14px;\n",
    "  font-weight:normal;overflow:hidden;padding:10px 5px;word-break:normal;}\n",
    ".tg .tg-c3ow{border-color:inherit;text-align:center;vertical-align:top}\n",
    ".tg .tg-0pky{border-color:inherit;text-align:left;vertical-align:top}\n",
    ".tg .tg-0lax{text-align:left;vertical-align:top}\n",
    "</style>\n",
    "<table class=\"tg\">\n",
    "<thead>\n",
    "  <tr>\n",
    "    <th class=\"tg-0pky\" colspan=\"2\" rowspan=\"2\"></th>\n",
    "    <th class=\"tg-c3ow\" colspan=\"4\">STW&nbsp;&nbsp;</th>\n",
    "  </tr>\n",
    "  <tr>\n",
    "    <th class=\"tg-0lax\">8</th>\n",
    "    <th class=\"tg-0lax\">10</th>\n",
    "    <th class=\"tg-0lax\">12</th>\n",
    "    <th class=\"tg-0lax\">14</th>\n",
    "  </tr>\n",
    "</thead>\n",
    "<tbody>\n",
    "  <tr>\n",
    "    <td class=\"tg-c3ow\" rowspan=\"2\">Mean Draft<br></td>\n",
    "    <td class=\"tg-0pky\">10</td>\n",
    "    <td class=\"tg-0pky\">2000</td>\n",
    "    <td class=\"tg-0lax\">4000</td>\n",
    "    <td class=\"tg-0lax\">7000</td>\n",
    "    <td class=\"tg-0lax\">12000</td>\n",
    "  </tr>\n",
    "  <tr>\n",
    "    <td class=\"tg-0pky\">16</td>\n",
    "    <td class=\"tg-0pky\">3000</td>\n",
    "    <td class=\"tg-0lax\">5000</td>\n",
    "    <td class=\"tg-0lax\">8000</td>\n",
    "    <td class=\"tg-0lax\">13000</td>\n",
    "  </tr>\n",
    "</tbody>\n",
    "</table>\n",
    "\n",
    "Here we have the two input parameters, STW and Mean Draft, corresponding to the horizontal and vertical dimension respectively. As we have 4 different STW values and 2 different Mean Draft values, we have a total of 4 x 2 = 8 input combinations. Feeding these into our simple model results in 8 output values, shown as the value in each cell. \n",
    "\n",
    "This 2-dimensional grid can approximate an actual model's predictions by interpolating between the values. For example, if we wish to know the predicted Main Engine Power at Mean Draft=10 and a STW=9 we can linearly interpolate between the Main Engine Power at a STW=8 and STW=10 for Mean Draft=10. This results in a predicted Main Engine Power output of 3000 kW.\n",
    "\n",
    "### Grid Accuracy\n",
    "\n",
    "A grid will of course be less accurate than the actual model. Fortunately, we can control the accuracy penalty by choosing more granular dimensions, e.g. choosing STW values of `[8, 9, 10, 11, 12, 13, 14]` would already make this grid more accurate.\n",
    "\n",
    "We can (and should!) also add more dimensions. Other than STW and Draft, any model input parameter can be used as additional dimension. However, for each new dimension that is added the grid grows exponentially in size."
   ]
  },
  {
   "attachments": {},
   "cell_type": "markdown",
   "metadata": {},
   "source": [
    "## Creating a grid\n",
    "\n",
    "A grid can be created using the Toqua API by providing a \"grid specification\".\n",
    "\n",
    "### Grid Specification\n",
    "A grid specification looks a lot like a normal model prediction: it is a dictionary of input parameters mapped to a list of numbers. This list contains the values that are used along the dimension of the grid corresponding to the input parameter. \n",
    "\n",
    "Our earlier example's grid specification would look as follows:\n",
    "\n",
    "```\n",
    "{\n",
    "    \"STW\": [8, 10, 12, 14],\n",
    "    \"Mean Draft\": [10, 16]\n",
    "}\n",
    "```\n",
    "\n",
    "The actual grid is then constructed by creating a combination between each of these values, resulting in 8 total combinations, as shown earlier in the 2-d table.\n",
    "\n",
    "Below we've created a grid specification that extends our toy example by including weather parameters and `fuel_specific_energy` as additional dimensions. We will continue with this grid specification throughout this guide."
   ]
  },
  {
   "cell_type": "code",
   "execution_count": 4,
   "metadata": {},
   "outputs": [],
   "source": [
    "grid_specification = {\n",
    "    \"sog\": [8, 10, 12, 14],             # [kn]\n",
    "    \"draft_avg\": [10, 16],              # [m]\n",
    "    \"wave_direction\": [0, 90],          # [deg]\n",
    "    \"wave_height\": [0.0, 2.0, 4.0],     # [m]\n",
    "    \"current_speed\": [0.0],             # [m/s]\n",
    "    \"current_direction\": [0.0],         # [deg]\n",
    "    \"wind_speed\": [0.0, 10.0, 20.0],    # [m/s]\n",
    "    \"wind_direction\": [0.0, 90.0],      # [deg]\n",
    "    \"fuel_specific_energy\": [41.5],     # [MJ/kg]\n",
    "}"
   ]
  },
  {
   "attachments": {},
   "cell_type": "markdown",
   "metadata": {},
   "source": [
    "The number of total combinations here is 288, resulting in a grid size of 288. That can easily be calculated by multiplying the length of each list. \n",
    "\n",
    "Note that the maximum allowed grid size may be capped."
   ]
  },
  {
   "attachments": {},
   "cell_type": "markdown",
   "metadata": {},
   "source": [
    "\n",
    "### Grid creation request\n",
    "\n",
    "A grid creation request can be provided to our API as follows. It contains our grid specification, together with an optional text description of the grid and a key `multi_grid` which can be set to `True` or `False`."
   ]
  },
  {
   "cell_type": "code",
   "execution_count": 5,
   "metadata": {},
   "outputs": [],
   "source": [
    "grid_request = {\n",
    "    \"description\": \"My first grid\",\n",
    "    \"multi_grid\": False,\n",
    "    \"grid\": grid_specification\n",
    "}"
   ]
  },
  {
   "attachments": {},
   "cell_type": "markdown",
   "metadata": {},
   "source": [
    "#### The `multi_grid` key\n",
    "\n",
    "So far, we've made the assumption that our simple model only predicts a single parameter, Main Engine Power. However, a Toqua Ship Kernel is able to predict additional parameters: STW, Main Engine RPM, Main Engine Fuel Consumption, ... These additional outputs will simply be additional dimensions in our grid. \n",
    "\n",
    "As mentioned earlier, a grid can quickly get pretty large. Because not all outputs are affected by all input parameters, we implemented an optimization that can be toggled on by setting the key `multi_grid` to `true`. When toggled, the grid will be split up into three smaller grids, each one containing a subset of the output parameters. Together they cover the whole space that would be covered by the original grid, even though the total size of all three grids combined can more than 500x smaller.\n",
    "\n",
    "Specifically, this is how the three tables are created:\n",
    "> The provided `sog` values will control the `sog` inputs for the first table. The second table's `stw` input will have the same range as `sog`, but its lower and upper bound extended to +/- the maximum given `current_speed`. The third table's `me_power` will range from 0 to the ship's MCR.\n",
    "\n",
    "For illustration purposes, we've disabled this option."
   ]
  },
  {
   "attachments": {},
   "cell_type": "markdown",
   "metadata": {},
   "source": [
    "### Creating a grid\n",
    "\n",
    "Depending on the grid size, a grid takes our models a while to create. That's why we've impemented an asynchronous flow for creating grids. \n",
    "\n",
    "What this means is that if a grid creation request is sent to our API it will check whether the request is valid, start a grid creation process (called a \"job\") and immediately return some information about the job. It doesn't immediately return the grid itself. Rather, in the background the job we started will ensure the grid is created at some point in the future. Once this job is completed the grid may be retrieved.\n",
    "\n",
    "A grid creation job can be started by a POST request on the `https://api.toqua.ai/ships/{imo_number}/models/latest/grid` endpoint."
   ]
  },
  {
   "cell_type": "code",
   "execution_count": 6,
   "metadata": {},
   "outputs": [
    {
     "name": "stdout",
     "output_type": "stream",
     "text": [
      "{\n",
      "    \"job_id\": \"ccb6c324-120e-4952-8510-8f02ab470242\",\n",
      "    \"creation_date\": \"2023-05-09T17:51:18.580732+00:00\",\n",
      "    \"grid_size\": 288,\n",
      "    \"specification\": {\n",
      "        \"description\": \"My first grid\",\n",
      "        \"date\": null,\n",
      "        \"multi_grid\": false,\n",
      "        \"grid\": {\n",
      "            \"sog\": [\n",
      "                8.0,\n",
      "                10.0,\n",
      "                12.0,\n",
      "                14.0\n",
      "            ],\n",
      "            \"draft_avg\": [\n",
      "                10.0,\n",
      "                16.0\n",
      "            ],\n",
      "            \"trim\": null,\n",
      "            \"wave_direction\": [\n",
      "                0.0,\n",
      "                90.0\n",
      "            ],\n",
      "            \"wave_height\": [\n",
      "                0.0,\n",
      "                2.0,\n",
      "                4.0\n",
      "            ],\n",
      "            \"wave_period\": null,\n",
      "            \"current_speed\": [\n",
      "                0.0\n",
      "            ],\n",
      "            \"current_direction\": [\n",
      "                0.0\n",
      "            ],\n",
      "            \"wind_direction\": [\n",
      "                0.0,\n",
      "                90.0\n",
      "            ],\n",
      "            \"wind_speed\": [\n",
      "                0.0,\n",
      "                10.0,\n",
      "                20.0\n",
      "            ],\n",
      "            \"sea_surface_temperature\": null,\n",
      "            \"sea_surface_salinity\": null,\n",
      "            \"fuel_specific_energy\": [\n",
      "                41.5\n",
      "            ]\n",
      "        }\n",
      "    },\n",
      "    \"status\": \"queued\",\n",
      "    \"completion_date\": null,\n",
      "    \"estimated_completion_date\": null\n",
      "}\n"
     ]
    }
   ],
   "source": [
    "def create_grid(imo_number, payload):\n",
    "    url = f\"https://api.toqua.ai/ships/{imo_number}/models/latest/grid\"\n",
    "    return make_api_call('POST', url, payload)\n",
    "\n",
    "# start a new grid creation job\n",
    "response = create_grid(IMO_NUMBER, grid_request)\n",
    "print(json.dumps(response, indent=4))"
   ]
  },
  {
   "attachments": {},
   "cell_type": "markdown",
   "metadata": {},
   "source": [
    "### Waiting for a grid creation job to finish\n",
    "To check how our job is progressing, we can retrieve its status. A grid creation job has four possible statuses: `queued`, `in_progress`, `completed` and `error`.\n",
    "\n",
    "* `queued`: the job is waiting to be started\n",
    "* `in_progress`: the job has been started and the grid is being created\n",
    "* `completed`: the job is finished and the grid may be retrieved\n",
    "* `error`: an error occurred during the creation of the grid\n",
    "\n",
    "The status can be retrieved by a GET request on the `https://api.toqua.ai/ships/{imo_number}/models/latest/grid/{job_id}/status` endpoint. The `job_id` can be retrieved from the response to our grid creation request.\n",
    "\n",
    "For larger grids a job can take a while. Below, we've implemented a busy-waiting loop that checks the grid status every 5 seconds. In case the job takes longer than 10 minutes, we time out.\n"
   ]
  },
  {
   "cell_type": "code",
   "execution_count": 7,
   "metadata": {},
   "outputs": [
    {
     "name": "stdout",
     "output_type": "stream",
     "text": [
      "Job status: completed...\n",
      "Job completed. Creation date: 2023-05-09T17:51:18.580732+00:00, completion date: 2023-05-09T17:51:19.763026\n"
     ]
    }
   ],
   "source": [
    "def get_grid_status(imo_number, job_id):\n",
    "    url = f\"https://api.toqua.ai/ships/{imo_number}/models/latest/grid/{job_id}/status\"\n",
    "    return make_api_call('GET', url)\n",
    "\n",
    "# get job id\n",
    "job_id = response['job_id']\n",
    "\n",
    "# set a time out of 10 min to avoid waiting forever\n",
    "max_timeout_in_seconds = 60 * 10\n",
    "\n",
    "timed_out = False\n",
    "job_in_progress = True\n",
    "start_time = time.time()\n",
    "# stop once timed out or job is finished\n",
    "while job_in_progress and not timed_out:\n",
    "    response = get_grid_status(IMO_NUMBER, job_id)\n",
    "    status = response[\"status\"]\n",
    "    job_in_progress = status == \"in_progress\" or status == \"queued\"\n",
    "    timed_out = (time.time() - start_time) > max_timeout_in_seconds\n",
    "    print(f\"Job status: {status}...\")\n",
    "    # poll job status every 5 seconds\n",
    "    sleep(5)\n",
    "\n",
    "if timed_out:\n",
    "    raise TimeoutError(f\"We've timed out after {max_timeout_in_seconds} seconds!\")\n",
    "if status == \"error\":\n",
    "    raise RuntimeError(\"Something went wrong during creation of the grid!\")\n",
    "\n",
    "# job finished successfully!\n",
    "print(f\"Job {status}. Creation date: {response['creation_date']}, completion date: {response['completion_date']}\")"
   ]
  },
  {
   "attachments": {},
   "cell_type": "markdown",
   "metadata": {},
   "source": [
    "## Retrieving the grid\n",
    "\n",
    "As the job status is set to `completed`, we can retrieve our grid.\n",
    "\n",
    "The grid can be retrieved by a GET request to `https://api.toqua.ai/ships/{imo_number}/models/latest/grid/{job_id}`.\n",
    "\n",
    "A ZIP file will be returned. We will write this file to disk so it's easy to manually inspect its contents. The file will contain one .csv file for each grid and a `metadata.json` file describing the file's contents."
   ]
  },
  {
   "cell_type": "code",
   "execution_count": 8,
   "metadata": {},
   "outputs": [
    {
     "name": "stdout",
     "output_type": "stream",
     "text": [
      "Creating .zip file...\n",
      "Zip file written to ccb6c324-120e-4952-8510-8f02ab470242.zip\n"
     ]
    }
   ],
   "source": [
    "def get_grid(imo_number, job_id):\n",
    "    url = f\"https://api.toqua.ai/ships/{imo_number}/models/latest/grid/{job_id}\"\n",
    "    return make_api_call('GET', url, return_json=False)\n",
    "\n",
    "# get the zip file\n",
    "response = get_grid(IMO_NUMBER, job_id)\n",
    "\n",
    "# write the zip file to disk\n",
    "print(f\"Creating .zip file...\")\n",
    "file_path = job_id + \".zip\"\n",
    "with open(file_path, \"wb\") as f:\n",
    "    f.write(response.content)\n",
    "\n",
    "print(f\"Zip file written to {file_path}\")"
   ]
  },
  {
   "attachments": {},
   "cell_type": "markdown",
   "metadata": {},
   "source": [
    "### Using the `metadata.json` file\n",
    "\n",
    "Manually downloading, unzipping and extracting .zip files is not very practical. To automate this process, a standardized `metadata.json` file is present which describes the contents of the zip file. It is a simple file whose schema is specified as an OpenAPI component in https://api.toqua.ai/openapi.json#/components/schemas/ModelGridFilesDescription. \n",
    "\n",
    "Let's see which files are present in the .zip file:"
   ]
  },
  {
   "cell_type": "code",
   "execution_count": 10,
   "metadata": {},
   "outputs": [
    {
     "name": "stdout",
     "output_type": "stream",
     "text": [
      "Files in zip: ['metadata.json', 'end-to-end.csv']\n"
     ]
    }
   ],
   "source": [
    "zip = zipfile.ZipFile(io.BytesIO(response.content))\n",
    "file_names = [file_info.filename for file_info in zip.filelist]\n",
    "print(f\"Files in zip: {file_names}\")"
   ]
  },
  {
   "attachments": {},
   "cell_type": "markdown",
   "metadata": {},
   "source": [
    "Each of the .csv files correspond to a grid. Let's inspect the `metadata.json` file."
   ]
  },
  {
   "cell_type": "code",
   "execution_count": 11,
   "metadata": {},
   "outputs": [
    {
     "name": "stdout",
     "output_type": "stream",
     "text": [
      "Keys present in metadata: ['grids', 'job']\n"
     ]
    }
   ],
   "source": [
    "metadata = json.loads(zip.read(\"metadata.json\"))\n",
    "print(f\"Keys present in metadata: {list(metadata.keys())}\")"
   ]
  },
  {
   "attachments": {},
   "cell_type": "markdown",
   "metadata": {},
   "source": [
    "The `job` key is a copy of the job specification that was used to create this grid. We won't print it here as it is quite long.\n",
    "\n",
    "The `grids` key is interesting, as that contains the description of each grid that is present."
   ]
  },
  {
   "cell_type": "code",
   "execution_count": 13,
   "metadata": {},
   "outputs": [
    {
     "name": "stdout",
     "output_type": "stream",
     "text": [
      "1 grid files present\n",
      "[\n",
      "    {\n",
      "        \"entrypoint\": \"sog\",\n",
      "        \"targets\": [\n",
      "            \"me_fo_consumption\",\n",
      "            \"stw\",\n",
      "            \"me_rpm\",\n",
      "            \"me_power\"\n",
      "        ],\n",
      "        \"inputs\": [\n",
      "            \"draft_avg\",\n",
      "            \"wave_direction\",\n",
      "            \"wave_height\",\n",
      "            \"current_speed\",\n",
      "            \"current_direction\",\n",
      "            \"wind_speed\",\n",
      "            \"wind_direction\",\n",
      "            \"ship_heading\",\n",
      "            \"fuel_specific_energy\",\n",
      "            \"sog\"\n",
      "        ],\n",
      "        \"filename\": \"end-to-end.csv\",\n",
      "        \"grid_type\": \"end-to-end\"\n",
      "    }\n",
      "]\n"
     ]
    }
   ],
   "source": [
    "grid_descriptions = metadata['grids']\n",
    "print(f\"{len(grid_descriptions)} grid files present\")\n",
    "print(json.dumps(grid_descriptions, indent=4))"
   ]
  },
  {
   "attachments": {},
   "cell_type": "markdown",
   "metadata": {},
   "source": [
    "For each grid present, the `grids` array has one element in the following form:\n",
    "```\n",
    "{\n",
    "    \"entrypoint\": string,\n",
    "    \"targets\": [string, ...],\n",
    "    \"inputs\": [string, ...],\n",
    "    \"filename\": string,\n",
    "    \"grid_type\": [\"sog-stw\" or \"stw-me_rpm-me_power\" or \"me_power-me_fo_consumption\" or \"end-to-end\"]\n",
    "}\n",
    "```\n",
    "\n",
    "* `entrypoint`, `targets` and `inputs` describes the **input and output data** of the grid. Each string will correspond to a column found in the grid's .csv file.\n",
    "\n",
    "* `filename` is the **filename** of the grid in the .zip file.\n",
    "\n",
    "* `grid_type` describes which kind of grid it is, and can only be one of **4 types** shown below. This element is crucial, as it can be used to automatically find the correct filename, entrypoint, targets and inputs.\n",
    "  * `sog-stw`: a grid that predicts the `stw` starting from `sog`\n",
    "  * `stw-me_rpm-me_power`: a grid that predicts the `me_power` and `me_rpm` starting from `stw`\n",
    "  * `me_power-me_fo_consumption`: a grid that predicts the `me_fo_consumption` starting from the `me_power`\n",
    "  * `end-to-end`: a grid that predicts the `stw`, `me_rpm`, `me_power` and `me_fo_consumption` starting from `sog`. This grid is retrieved when `multi_grid=false`."
   ]
  },
  {
   "attachments": {},
   "cell_type": "markdown",
   "metadata": {},
   "source": [
    "As a small example, let's use the `grid_type` to fetch the correct `.csv` file, load it into a pandas DataFrame and print it out."
   ]
  },
  {
   "cell_type": "code",
   "execution_count": 15,
   "metadata": {},
   "outputs": [
    {
     "name": "stdout",
     "output_type": "stream",
     "text": [
      "Grid type `end-to-end` has filename `end-to-end.csv`\n",
      "   draft_avg  wave_direction  wave_height  current_speed  current_direction  \\\n",
      "0       10.0             0.0          0.0            0.0                0.0   \n",
      "1       10.0             0.0          0.0            0.0                0.0   \n",
      "2       10.0             0.0          0.0            0.0                0.0   \n",
      "3       10.0             0.0          0.0            0.0                0.0   \n",
      "4       10.0             0.0          0.0            0.0                0.0   \n",
      "\n",
      "   wind_speed  wind_direction  ship_heading  fuel_specific_energy  sog  \\\n",
      "0         0.0             0.0             0                  41.5  8.0   \n",
      "1         0.0            90.0             0                  41.5  8.0   \n",
      "2        10.0             0.0             0                  41.5  8.0   \n",
      "3        10.0            90.0             0                  41.5  8.0   \n",
      "4        20.0             0.0             0                  41.5  8.0   \n",
      "\n",
      "   me_fo_consumption  stw     me_rpm     me_power limit_exceeded  \n",
      "0          10.960092  8.0  32.253263  2328.710170            NaN  \n",
      "1          10.960092  8.0  32.253263  2328.710170            NaN  \n",
      "2          13.191427  8.0  31.787412  2833.959285            NaN  \n",
      "3          10.960092  8.0  31.440519  2328.710170            NaN  \n",
      "4          21.716698  8.0  37.100321  4852.612086            NaN  \n",
      "\n"
     ]
    }
   ],
   "source": [
    "\n",
    "def find_filename_of_grid_type(metadata: Dict, grid_type: str):\n",
    "  for g in metadata[\"grids\"]:\n",
    "    if g[\"grid_type\"] == grid_type:\n",
    "      return g[\"filename\"]\n",
    "  raise Exception(f\"Grid type `{grid_type}` not found!\")\n",
    "\n",
    "grid_type = \"end-to-end\"\n",
    "grid_filename = find_filename_of_grid_type(metadata, grid_type)\n",
    "print(f\"Grid type `{grid_type}` has filename `{grid_filename}`\")\n",
    "grid_file = zip.read(grid_filename)\n",
    "df = pd.read_csv(io.BytesIO(grid_file))\n",
    "print(df.head())\n",
    "print()"
   ]
  },
  {
   "attachments": {},
   "cell_type": "markdown",
   "metadata": {},
   "source": [
    "### Model limits\n",
    "As can be seen in the previous output, an additional column is present: `limit_exceeded`. When predicting multiple grids, this column will be present in each grid.\n",
    "\n",
    "When a ship's limits have been exceeded, this column will contain the name of the primary operational parameter whose limit was exceeded.\n",
    "\n",
    "Currently, the following will trigger a `limit_exceeded` flag:\n",
    "* `sog`, `stw`, `me_rpm`, `me_power` or `me_fo_consumption` below 0\n",
    "* `me_power` > 90% MCR\n",
    "* `me_power` < 10% MCR\n",
    "* `me_rpm` > Max RPM\n",
    "\n",
    "For example, if 90% MCR is 25000 kW and the predicted `me_power` is 25001, then the column will contain `me_power`."
   ]
  }
 ],
 "metadata": {
  "kernelspec": {
   "display_name": "recipes",
   "language": "python",
   "name": "python3"
  },
  "language_info": {
   "codemirror_mode": {
    "name": "ipython",
    "version": 3
   },
   "file_extension": ".py",
   "mimetype": "text/x-python",
   "name": "python",
   "nbconvert_exporter": "python",
   "pygments_lexer": "ipython3",
   "version": "3.8.13"
  },
  "orig_nbformat": 4
 },
 "nbformat": 4,
 "nbformat_minor": 2
}
