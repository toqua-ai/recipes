{
 "cells": [
  {
   "attachments": {},
   "cell_type": "markdown",
   "metadata": {},
   "source": [
    "# How to use this interactive notebook?\n",
    "\n",
    "#### 1. Fill in your API key below\n",
    "#### 2. Press the play button above or select _Run All Cells_ from the _Run_ menu in the toolbar."
   ]
  },
  {
   "cell_type": "code",
   "execution_count": 1,
   "metadata": {},
   "outputs": [],
   "source": [
    "API_KEY = \"your-api-key-here\""
   ]
  },
  {
   "cell_type": "markdown",
   "metadata": {},
   "source": [
    "# Use case: The Basics\n",
    "\n",
    "In this starter use case, we will showcase the fundamentals of the Toqua API and introduce some of the terminology used in our documentation. To get the most out of this tutorial, you should have some familiarity with Python.\n",
    "\n",
    "We will simulate the performance of a ship in a single weather condition, for a single speed."
   ]
  },
  {
   "attachments": {},
   "cell_type": "markdown",
   "metadata": {},
   "source": [
    "## Authorize\n",
    "\n",
    "Let's first make sure we're authorized to use the API by running the following code.\n",
    "\n",
    "If everything is alright, you should see a list of ships.\n"
   ]
  },
  {
   "cell_type": "code",
   "execution_count": 2,
   "metadata": {},
   "outputs": [
    {
     "name": "stdout",
     "output_type": "stream",
     "text": [
      "[\n",
      "  {\n",
      "    \"name\": \"Trial Vessel\",\n",
      "    \"imo_number\": 9999999,\n",
      "    \"type\": \"Tanker\",\n",
      "    \"class\": null,\n",
      "    \"country\": \"SC\",\n",
      "    \"build_year\": 2015,\n",
      "    \"shipyard\": \"Toqua Shipyard\",\n",
      "    \"dwt\": 220000.0,\n",
      "    \"beam\": 55.0,\n",
      "    \"loa\": 300.0,\n",
      "    \"mcr\": null,\n",
      "    \"max_rpm\": null,\n",
      "    \"uuid\": \"eycrYbrzJNsJecGqKraUCn\"\n",
      "  }\n",
      "]\n"
     ]
    }
   ],
   "source": [
    "import json\n",
    "import requests\n",
    "\n",
    "API_URL = \"https://api.toqua.ai\"\n",
    "\n",
    "url = \"https://api.toqua.ai/ships/\"\n",
    "headers = {\"accept\": \"application/json\", \"X-API-Key\": API_KEY}\n",
    "response = requests.get(url, headers=headers)\n",
    "\n",
    "print(json.dumps(response.json(), indent=2))\n"
   ]
  },
  {
   "cell_type": "markdown",
   "metadata": {},
   "source": [
    "Fill in the IMO number of the ship you want to analyze.\n"
   ]
  },
  {
   "cell_type": "code",
   "execution_count": 3,
   "metadata": {},
   "outputs": [],
   "source": [
    "IMO_NUMBER = 9999999"
   ]
  },
  {
   "cell_type": "markdown",
   "metadata": {},
   "source": [
    "## Conditioning parameters\n",
    "\n",
    "The conditioning parameters are the factors that influence the relation between the ship's primary operational parameters. These can be provided at the input and will influence the value of the predicted primary operational parameters. We can model the impact of any of the following conditions:\n",
    "\n",
    "### Weather conditions\n",
    "* Wind speed and direction\n",
    "* Wave height and direction\n",
    "* Current speed and direction\n",
    "* Sea surface salinity\n",
    "* Sea surface temperature\n",
    "\n",
    "\n",
    "### Operational conditions\n",
    "* Mean/average draft\n",
    "* Trim\n",
    "* Ship heading\n",
    "* Fuel specific energy  / Lower Calorific Value\n",
    "\n",
    "Let's define these conditions."
   ]
  },
  {
   "cell_type": "code",
   "execution_count": 4,
   "metadata": {},
   "outputs": [],
   "source": [
    "wind_speed = 6          # [m/s]\n",
    "wind_direction = 180    # [degrees]\n",
    "wave_height = 2         # [m]\n",
    "wave_direction = 90     # [degrees]\n",
    "current_speed = 0.5     # [m/s]\n",
    "current_direction = 0   # [degrees]\n",
    "mean_draft = 20         # [m]\n",
    "trim = -1               # [m]\n",
    "ship_heading = 0        # [degrees]\n",
    "fuel_specific_energy  = 41.5 # [MJ/kg]\n"
   ]
  },
  {
   "cell_type": "markdown",
   "metadata": {},
   "source": [
    "## The entrypoint"
   ]
  },
  {
   "cell_type": "markdown",
   "metadata": {},
   "source": [
    "Now that we have our conditioning parameters, let's specify our entrypoint. \n",
    "\n",
    "The entrypoint can be any of the below parameters. Given exactly one of these (the entrypoint), the other parameters can be predicted.\n",
    "- Speed Over Ground (`sog`)\n",
    "- Speed Through Water (`stw`)\n",
    "- Main Engine RPM (`me_rpm`)\n",
    "- Main Engine Shaft Power (`me_power`)\n",
    "- Main Engine Fuel Consumption (`me_fo_consumption`).\n"
   ]
  },
  {
   "attachments": {},
   "cell_type": "markdown",
   "metadata": {},
   "source": [
    "We want to predict the amount of fuel the ship will consume when sailing at a Speed Over Ground of 13 knots in the conditions we described above.\n",
    "\n",
    "Thus, our entrypoint will be the `sog` parameter."
   ]
  },
  {
   "cell_type": "code",
   "execution_count": 5,
   "metadata": {},
   "outputs": [],
   "source": [
    "sog = 13"
   ]
  },
  {
   "cell_type": "markdown",
   "metadata": {},
   "source": [
    "## Define the API input\n"
   ]
  },
  {
   "cell_type": "markdown",
   "metadata": {},
   "source": [
    "The Toqua API expects the model input to look like this:\n",
    "\n",
    "```\n",
    "{\n",
    "     \"date\": \"...\",\n",
    "     \"data\": {\n",
    "          \"sog\": [...],\n",
    "          \"draft_avg\": [...],\n",
    "          \"trim\": [...],\n",
    "          \"wave_direction\": [...],\n",
    "          \"wave_height\": [...],\n",
    "          \"wave_period\": [...],\n",
    "          \"current_speed\": [...],\n",
    "          \"current_direction\": [...],\n",
    "          \"wind_direction\": [...],\n",
    "          \"wind_speed\": [...],\n",
    "          \"ship_heading\": [...],\n",
    "          \"fuel_specific_energy\": [...]\n",
    "     }\n",
    "}\n",
    "```\n",
    "\n",
    "For the full specification, consult our [API reference](https://docs.toqua.ai/reference/retrieve_model_prediction_ships__ship_uuid_or_imo__models_latest_predict_post).\n"
   ]
  },
  {
   "cell_type": "markdown",
   "metadata": {},
   "source": [
    "Let's create such an input from the condition and entrypoint we specified. For this use case, we will ignore the `date` parameter.\n",
    "\n",
    "Note that all parameters have to be provided as lists of values."
   ]
  },
  {
   "cell_type": "code",
   "execution_count": 6,
   "metadata": {},
   "outputs": [],
   "source": [
    "api_input = {\n",
    "    \"data\": {\n",
    "        \"sog\": [sog],\n",
    "        \"wave_direction\": [wave_direction],\n",
    "        \"wave_height\": [wave_height],\n",
    "        \"wind_direction\": [wind_direction],\n",
    "        \"wind_speed\": [wind_speed],\n",
    "        \"current_direction\": [current_direction],\n",
    "        \"current_speed\": [current_speed],\n",
    "        \"draft_avg\": [mean_draft],\n",
    "        \"trim\": [trim],\n",
    "        \"fuel_specific_energy\": [fuel_specific_energy]\n",
    "    }\n",
    "}"
   ]
  },
  {
   "cell_type": "markdown",
   "metadata": {},
   "source": [
    "## Query the API\n"
   ]
  },
  {
   "cell_type": "markdown",
   "metadata": {},
   "source": [
    "Now that our input data is in the correct format, let's create a simple function to query the model API and call it.\n"
   ]
  },
  {
   "cell_type": "code",
   "execution_count": 7,
   "metadata": {},
   "outputs": [],
   "source": [
    "def query_api(imo_number, payload):\n",
    "    url = f\"https://api.toqua.ai/ships/{imo_number}/models/latest/predict\"\n",
    "    headers = {\n",
    "        \"accept\": \"application/json\",\n",
    "        \"content-type\": \"application/json\",\n",
    "        \"X-API-Key\": API_KEY,\n",
    "    }\n",
    "    response = requests.post(url, json=payload, headers=headers)\n",
    "    return response\n"
   ]
  },
  {
   "cell_type": "markdown",
   "metadata": {},
   "source": [
    "If everything went fine, the code below should print `Status Code: 200`.\n"
   ]
  },
  {
   "cell_type": "code",
   "execution_count": 8,
   "metadata": {},
   "outputs": [
    {
     "name": "stdout",
     "output_type": "stream",
     "text": [
      "Status Code:  200\n"
     ]
    }
   ],
   "source": [
    "response = query_api(IMO_NUMBER, api_input)\n",
    "print(\"Status Code: \", response.status_code)\n"
   ]
  },
  {
   "cell_type": "markdown",
   "metadata": {},
   "source": [
    "Let's look at the values that were predicted by the model for the conditions we provided.\n"
   ]
  },
  {
   "cell_type": "code",
   "execution_count": 9,
   "metadata": {},
   "outputs": [
    {
     "name": "stdout",
     "output_type": "stream",
     "text": [
      "{'sog': [13.0], 'stw': [13.97192], 'me_rpm': [57.87255627071883], 'me_power': [15068.031935400446], 'me_fo_consumption': [63.799937707944665], 'me_fo_emission': [202.27770250303854]}\n"
     ]
    }
   ],
   "source": [
    "print(response.json())"
   ]
  },
  {
   "attachments": {},
   "cell_type": "markdown",
   "metadata": {},
   "source": [
    "For the conditions we specified the ship will:\n",
    "* sail at a STW of 13.97 knots\n",
    "* require a main engine RPM of 58\n",
    "* require a main engine power output of 15068 kW\n",
    "* consume fuel at a rate of 63.8 mt/day\n",
    "* emit CO2 at a rate of 202 mt/day"
   ]
  },
  {
   "cell_type": "markdown",
   "metadata": {},
   "source": []
  }
 ],
 "metadata": {
  "kernelspec": {
   "display_name": "Python 3.8.13 ('recipes')",
   "language": "python",
   "name": "python3"
  },
  "language_info": {
   "codemirror_mode": {
    "name": "ipython",
    "version": 3
   },
   "file_extension": ".py",
   "mimetype": "text/x-python",
   "name": "python",
   "nbconvert_exporter": "python",
   "pygments_lexer": "ipython3",
   "version": "3.8.13"
  },
  "orig_nbformat": 4,
  "vscode": {
   "interpreter": {
    "hash": "93aeca4cc8af296d5c7dc533a0be0042315cbdcd7a0d957eaa864ca76dd95c3f"
   }
  }
 },
 "nbformat": 4,
 "nbformat_minor": 2
}
